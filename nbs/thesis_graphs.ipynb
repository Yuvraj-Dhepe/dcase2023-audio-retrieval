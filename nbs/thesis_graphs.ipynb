{
 "cells": [
  {
   "cell_type": "markdown",
   "metadata": {},
   "source": [
    "### Background Graphs"
   ]
  },
  {
   "cell_type": "code",
   "execution_count": 3,
   "metadata": {},
   "outputs": [],
   "source": [
    "import numpy as np\n",
    "import matplotlib.pyplot as plt\n",
    "\n",
    "def plot_fitting_examples(output_filename):\n",
    "    \"\"\"\n",
    "    Creates plots demonstrating underfitting, good fit, and overfitting, including the true function,\n",
    "    and saves the result to a PDF file.\n",
    "\n",
    "    Parameters:\n",
    "        output_filename (str): The name of the output PDF file (e.g., 'fitting_examples.pdf').\n",
    "    \"\"\"\n",
    "    # Generate sample data\n",
    "    np.random.seed(42)\n",
    "    x = np.linspace(0, 10, 100)\n",
    "    y_true = np.sin(x)  # True function\n",
    "    y = y_true + 0.2 * np.random.normal(size=x.shape)  # Noisy observations\n",
    "\n",
    "    # Underfitting model (Linear)\n",
    "    coeff_underfit = np.polyfit(x, y, 1)\n",
    "    y_underfit = np.polyval(coeff_underfit, x)\n",
    "\n",
    "    # Good fit model (Polynomial degree 5)\n",
    "    coeff_goodfit = np.polyfit(x, y, 5)\n",
    "    y_goodfit = np.polyval(coeff_goodfit, x)\n",
    "\n",
    "    # Overfitting model (Polynomial degree 15)\n",
    "    coeff_overfit = np.polyfit(x, y, 15)\n",
    "    y_overfit = np.polyval(coeff_overfit, x)\n",
    "\n",
    "    # Plotting\n",
    "    fig, axes = plt.subplots(1, 3, figsize=(18, 5), sharey=True)\n",
    "\n",
    "    # Underfitting plot\n",
    "    axes[0].scatter(x, y, label='Data', color='blue', s=10)\n",
    "    axes[0].plot(x, y_underfit, label='Underfitting (Linear)', color='red')\n",
    "    axes[0].plot(x, y_true, label='True Function (sin(x))', color='black', linestyle='--')\n",
    "    axes[0].set_title('Underfitting')\n",
    "    axes[0].legend()\n",
    "\n",
    "    # Good fit plot\n",
    "    axes[1].scatter(x, y, label='Data', color='blue', s=10)\n",
    "    axes[1].plot(x, y_goodfit, label='Good Fit (Degree 5)', color='green')\n",
    "    axes[1].plot(x, y_true, label='True Function (sin(x))', color='black', linestyle='--')\n",
    "    axes[1].set_title('Good Fit')\n",
    "    axes[1].legend()\n",
    "\n",
    "    # Overfitting plot\n",
    "    axes[2].scatter(x, y, label='Data', color='blue', s=10)\n",
    "    axes[2].plot(x, y_overfit, label='Overfitting (Degree 15)', color='orange')\n",
    "    axes[2].plot(x, y_true, label='True Function (sin(x))', color='black', linestyle='--')\n",
    "    axes[2].set_title('Overfitting')\n",
    "    axes[2].legend()\n",
    "\n",
    "    # Add common labels\n",
    "    fig.supylabel('Output')\n",
    "    fig.supxlabel('Input')\n",
    "\n",
    "    # Save the figure to a PDF\n",
    "    plt.tight_layout()\n",
    "    fig.savefig(output_filename, format='pdf')\n",
    "    plt.close(fig)\n",
    "\n",
    "# Example usage\n",
    "plot_fitting_examples('../example/06_fitting_concept.pdf')\n"
   ]
  }
 ],
 "metadata": {
  "kernelspec": {
   "display_name": "Python 3",
   "language": "python",
   "name": "python3"
  },
  "language_info": {
   "codemirror_mode": {
    "name": "ipython",
    "version": 3
   },
   "file_extension": ".py",
   "mimetype": "text/x-python",
   "name": "python",
   "nbconvert_exporter": "python",
   "pygments_lexer": "ipython3",
   "version": "3.9.19"
  }
 },
 "nbformat": 4,
 "nbformat_minor": 2
}
