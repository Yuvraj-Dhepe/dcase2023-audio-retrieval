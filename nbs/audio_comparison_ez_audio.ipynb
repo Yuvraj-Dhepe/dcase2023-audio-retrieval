{
 "cells": [
  {
   "cell_type": "code",
   "execution_count": null,
   "metadata": {},
   "outputs": [],
   "source": [
    "\n",
    "%load_ext autoreload\n",
    "%autoreload 2\n",
    "import librosa\n",
    "import numpy as np\n",
    "import pandas as pd\n",
    "import matplotlib.pyplot as plt\n",
    "from utils import plot_utils as pu\n",
    "from matplotlib_inline.backend_inline import set_matplotlib_formats\n",
    "set_matplotlib_formats('pdf')"
   ]
  },
  {
   "cell_type": "code",
   "execution_count": null,
   "metadata": {},
   "outputs": [],
   "source": [
    "ext = \"png\""
   ]
  },
  {
   "cell_type": "markdown",
   "metadata": {},
   "source": [
    "### Similarity Scores between ezmodel_original and generated audios for Cap Col 1\n"
   ]
  },
  {
   "cell_type": "code",
   "execution_count": null,
   "metadata": {},
   "outputs": [],
   "source": [
    "import os\n",
    "\n",
    "for i in [\"cmp_dtw_figs\", \"cmp_wcc_figs\", \"cmp_embedd_figs\"]:\n",
    "    os.makedirs(os.path.join(\"../temp\", i), exist_ok=True)"
   ]
  },
  {
   "cell_type": "code",
   "execution_count": null,
   "metadata": {},
   "outputs": [],
   "source": [
    "cap_num = 1"
   ]
  },
  {
   "cell_type": "markdown",
   "metadata": {},
   "source": [
    "#### DTW\n"
   ]
  },
  {
   "cell_type": "code",
   "execution_count": null,
   "metadata": {},
   "outputs": [],
   "source": [
    "# Example usage of the function\n",
    "method = \"dtw\"\n",
    "csv_file = f\"../temp/ezmodel_original_vs_cap_{cap_num}_generated_audio_via_{method}.csv\"\n",
    "output_plot = f\"../temp/cmp_dtw_figs/ezmodel_original_vs_cap_{cap_num}_generated_audio_via_{method}_dtw_score_distribution.{ext}\"\n",
    "plot_title = \"DTW Score Distribution\"\n",
    "\n",
    "# Call the generic function\n",
    "pu.plot_dtw_score_distribution(\n",
    "    csv_file,\n",
    "    plot_title,\n",
    "    similarity_threshold=0.6,\n",
    "    output_path=output_plot,\n",
    "    col_num=cap_num,\n",
    ")"
   ]
  },
  {
   "cell_type": "markdown",
   "metadata": {},
   "source": [
    "#### WCC\n"
   ]
  },
  {
   "cell_type": "code",
   "execution_count": null,
   "metadata": {},
   "outputs": [],
   "source": [
    "# Example usage of the function\n",
    "method = \"wcc\"\n",
    "csv_file = f\"../temp/ezmodel_original_vs_cap_{cap_num}_generated_audio_via_{method}.csv\"\n",
    "output_plot = f\"../temp/cmp_wcc_figs/ezmodel_original_vs_cap_{cap_num}_generated_audio_via_{method}_wcc_score_distribution.{ext}\"\n",
    "plot_title = \"Sliding Window Cross-Correlation Score Distribution\"\n",
    "\n",
    "# Call the generic function for WCC\n",
    "pu.plot_wcc_score_distribution(\n",
    "    csv_file,\n",
    "    plot_title,\n",
    "    similarity_threshold=0.6,\n",
    "    output_path=output_plot,\n",
    "    col_num=cap_num,\n",
    ")"
   ]
  },
  {
   "cell_type": "markdown",
   "metadata": {},
   "source": [
    "#### Embedding\n"
   ]
  },
  {
   "cell_type": "code",
   "execution_count": null,
   "metadata": {},
   "outputs": [],
   "source": [
    "# Example usage of the function for Cosine Similarity\n",
    "method = \"model\"\n",
    "csv_file = f\"../temp/ezmodel_original_vs_cap_{cap_num}_generated_audio_via_{method}.csv\"\n",
    "output_plot = f\"../temp/cmp_embedd_figs/ezmodel_original_vs_cap_{cap_num}_generated_audio_via_{method}_cosine_similarity_score_distribution.{ext}\"\n",
    "plot_title = \"Embedding Cosine Similarity Score Distribution\"\n",
    "\n",
    "# Call the generic function for Cosine Similarity\n",
    "pu.plot_embed_score_distribution(\n",
    "    csv_file,\n",
    "    plot_title,\n",
    "    similarity_threshold=0.003,\n",
    "    output_path=output_plot,\n",
    "    col_num=cap_num,\n",
    ")"
   ]
  },
  {
   "cell_type": "markdown",
   "metadata": {},
   "source": [
    "### Similarity Scores between ezmodel_original and generated audios for Cap Col 2\n"
   ]
  },
  {
   "cell_type": "code",
   "execution_count": null,
   "metadata": {},
   "outputs": [],
   "source": [
    "cap_num = 2"
   ]
  },
  {
   "cell_type": "markdown",
   "metadata": {},
   "source": [
    "#### DTW\n"
   ]
  },
  {
   "cell_type": "code",
   "execution_count": null,
   "metadata": {},
   "outputs": [],
   "source": [
    "# Example usage of the function\n",
    "method = \"dtw\"\n",
    "csv_file = f\"../temp/ezmodel_original_vs_cap_{cap_num}_generated_audio_via_{method}.csv\"\n",
    "output_plot = f\"../temp/cmp_dtw_figs/ezmodel_original_vs_cap_{cap_num}_generated_audio_via_{method}_dtw_score_distribution.{ext}\"\n",
    "plot_title = \"DTW Score Distribution\"\n",
    "\n",
    "# Call the generic function\n",
    "pu.plot_dtw_score_distribution(\n",
    "    csv_file,\n",
    "    plot_title,\n",
    "    similarity_threshold=0.6,\n",
    "    output_path=output_plot,\n",
    "    col_num=cap_num,\n",
    ")"
   ]
  },
  {
   "cell_type": "markdown",
   "metadata": {},
   "source": [
    "#### WCC\n"
   ]
  },
  {
   "cell_type": "code",
   "execution_count": null,
   "metadata": {},
   "outputs": [],
   "source": [
    "# Example usage of the function\n",
    "method = \"wcc\"\n",
    "csv_file = f\"../temp/ezmodel_original_vs_cap_{cap_num}_generated_audio_via_{method}.csv\"\n",
    "output_plot = f\"../temp/cmp_wcc_figs/ezmodel_original_vs_cap_{cap_num}_generated_audio_via_{method}_wcc_score_distribution.{ext}\"\n",
    "plot_title = \"Sliding Window Cross-Correlation Score Distribution\"\n",
    "\n",
    "# Call the generic function for WCC\n",
    "pu.plot_wcc_score_distribution(\n",
    "    csv_file,\n",
    "    plot_title,\n",
    "    similarity_threshold=0.6,\n",
    "    output_path=output_plot,\n",
    "    col_num=cap_num,\n",
    ")"
   ]
  },
  {
   "cell_type": "markdown",
   "metadata": {},
   "source": [
    "#### Embedding\n"
   ]
  },
  {
   "cell_type": "code",
   "execution_count": null,
   "metadata": {},
   "outputs": [],
   "source": [
    "# Example usage of the function for Cosine Similarity\n",
    "method = \"model\"\n",
    "csv_file = f\"../temp/ezmodel_original_vs_cap_{cap_num}_generated_audio_via_{method}.csv\"\n",
    "output_plot = f\"../temp/cmp_embedd_figs/ezmodel_original_vs_cap_{cap_num}_generated_audio_via_{method}_cosine_similarity_score_distribution.{ext}\"\n",
    "plot_title = \"Embedding Cosine Similarity Score Distribution\"\n",
    "\n",
    "# Call the generic function for Cosine Similarity\n",
    "pu.plot_embed_score_distribution(\n",
    "    csv_file,\n",
    "    plot_title,\n",
    "    similarity_threshold=0.003,\n",
    "    output_path=output_plot,\n",
    "    col_num=cap_num,\n",
    ")"
   ]
  },
  {
   "cell_type": "markdown",
   "metadata": {},
   "source": [
    "### Similarity Scores between ezmodel_original and generated audios for Cap Col 3\n"
   ]
  },
  {
   "cell_type": "code",
   "execution_count": null,
   "metadata": {},
   "outputs": [],
   "source": [
    "cap_num = 3"
   ]
  },
  {
   "cell_type": "markdown",
   "metadata": {},
   "source": [
    "#### DTW\n"
   ]
  },
  {
   "cell_type": "code",
   "execution_count": null,
   "metadata": {},
   "outputs": [],
   "source": [
    "# Example usage of the function\n",
    "method = \"dtw\"\n",
    "csv_file = f\"../temp/ezmodel_original_vs_cap_{cap_num}_generated_audio_via_{method}.csv\"\n",
    "output_plot = f\"../temp/cmp_dtw_figs/ezmodel_original_vs_cap_{cap_num}_generated_audio_via_{method}_dtw_score_distribution.{ext}\"\n",
    "plot_title = \"DTW Score Distribution\"\n",
    "\n",
    "# Call the generic function\n",
    "pu.plot_dtw_score_distribution(\n",
    "    csv_file,\n",
    "    plot_title,\n",
    "    similarity_threshold=0.6,\n",
    "    output_path=output_plot,\n",
    "    col_num=cap_num,\n",
    ")"
   ]
  },
  {
   "cell_type": "markdown",
   "metadata": {},
   "source": [
    "#### WCC\n"
   ]
  },
  {
   "cell_type": "code",
   "execution_count": null,
   "metadata": {},
   "outputs": [],
   "source": [
    "# Example usage of the function\n",
    "method = \"wcc\"\n",
    "csv_file = f\"../temp/ezmodel_original_vs_cap_{cap_num}_generated_audio_via_{method}.csv\"\n",
    "output_plot = f\"../temp/cmp_wcc_figs/ezmodel_original_vs_cap_{cap_num}_generated_audio_via_{method}_wcc_score_distribution.{ext}\"\n",
    "plot_title = \"Sliding Window Cross-Correlation Score Distribution\"\n",
    "\n",
    "# Call the generic function for WCC\n",
    "pu.plot_wcc_score_distribution(\n",
    "    csv_file,\n",
    "    plot_title,\n",
    "    similarity_threshold=0.6,\n",
    "    output_path=output_plot,\n",
    "    col_num=cap_num,\n",
    ")"
   ]
  },
  {
   "cell_type": "markdown",
   "metadata": {},
   "source": [
    "#### Embedding\n"
   ]
  },
  {
   "cell_type": "code",
   "execution_count": null,
   "metadata": {},
   "outputs": [],
   "source": [
    "# Example usage of the function for Cosine Similarity\n",
    "method = \"model\"\n",
    "csv_file = f\"../temp/ezmodel_original_vs_cap_{cap_num}_generated_audio_via_{method}.csv\"\n",
    "output_plot = f\"../temp/cmp_embedd_figs/ezmodel_original_vs_cap_{cap_num}_generated_audio_via_{method}_cosine_similarity_score_distribution.{ext}\"\n",
    "plot_title = \"Embedding Cosine Similarity Score Distribution\"\n",
    "\n",
    "# Call the generic function for Cosine Similarity\n",
    "pu.plot_embed_score_distribution(\n",
    "    csv_file,\n",
    "    plot_title,\n",
    "    similarity_threshold=0.003,\n",
    "    output_path=output_plot,\n",
    "    col_num=cap_num,\n",
    ")"
   ]
  },
  {
   "cell_type": "markdown",
   "metadata": {},
   "source": [
    "### Similarity Scores between ezmodel_original and generated audios for Cap Col 4\n"
   ]
  },
  {
   "cell_type": "code",
   "execution_count": null,
   "metadata": {},
   "outputs": [],
   "source": [
    "cap_num = 4"
   ]
  },
  {
   "cell_type": "markdown",
   "metadata": {},
   "source": [
    "#### DTW\n"
   ]
  },
  {
   "cell_type": "code",
   "execution_count": null,
   "metadata": {},
   "outputs": [],
   "source": [
    "# Example usage of the function\n",
    "method = \"dtw\"\n",
    "csv_file = f\"../temp/ezmodel_original_vs_cap_{cap_num}_generated_audio_via_{method}.csv\"\n",
    "output_plot = f\"../temp/cmp_dtw_figs/ezmodel_original_vs_cap_{cap_num}_generated_audio_via_{method}_dtw_score_distribution.{ext}\"\n",
    "plot_title = \"DTW Score Distribution\"\n",
    "\n",
    "# Call the generic function\n",
    "pu.plot_dtw_score_distribution(\n",
    "    csv_file,\n",
    "    plot_title,\n",
    "    similarity_threshold=0.6,\n",
    "    output_path=output_plot,\n",
    "    col_num=cap_num,\n",
    ")"
   ]
  },
  {
   "cell_type": "markdown",
   "metadata": {},
   "source": [
    "#### WCC\n"
   ]
  },
  {
   "cell_type": "code",
   "execution_count": null,
   "metadata": {},
   "outputs": [],
   "source": [
    "# Example usage of the function\n",
    "method = \"wcc\"\n",
    "csv_file = f\"../temp/ezmodel_original_vs_cap_{cap_num}_generated_audio_via_{method}.csv\"\n",
    "output_plot = f\"../temp/cmp_wcc_figs/ezmodel_original_vs_cap_{cap_num}_generated_audio_via_{method}_wcc_score_distribution.{ext}\"\n",
    "plot_title = \"Sliding Window Cross-Correlation Score Distribution\"\n",
    "\n",
    "# Call the generic function for WCC\n",
    "pu.plot_wcc_score_distribution(\n",
    "    csv_file,\n",
    "    plot_title,\n",
    "    similarity_threshold=0.6,\n",
    "    output_path=output_plot,\n",
    "    col_num=cap_num,\n",
    ")"
   ]
  },
  {
   "cell_type": "markdown",
   "metadata": {},
   "source": [
    "#### Embedding\n"
   ]
  },
  {
   "cell_type": "code",
   "execution_count": null,
   "metadata": {},
   "outputs": [],
   "source": [
    "# Example usage of the function for Cosine Similarity\n",
    "method = \"model\"\n",
    "csv_file = f\"../temp/ezmodel_original_vs_cap_{cap_num}_generated_audio_via_{method}.csv\"\n",
    "output_plot = f\"../temp/cmp_embedd_figs/ezmodel_original_vs_cap_{cap_num}_generated_audio_via_{method}_cosine_similarity_score_distribution.{ext}\"\n",
    "plot_title = \"Embedding Cosine Similarity Score Distribution\"\n",
    "\n",
    "# Call the generic function for Cosine Similarity\n",
    "pu.plot_embed_score_distribution(\n",
    "    csv_file,\n",
    "    plot_title,\n",
    "    similarity_threshold=0.003,\n",
    "    output_path=output_plot,\n",
    "    col_num=cap_num,\n",
    ")"
   ]
  },
  {
   "cell_type": "markdown",
   "metadata": {},
   "source": [
    "### Similarity Scores between ezmodel_original and generated audios for Cap Col 5\n"
   ]
  },
  {
   "cell_type": "code",
   "execution_count": null,
   "metadata": {},
   "outputs": [],
   "source": [
    "cap_num = 5"
   ]
  },
  {
   "cell_type": "markdown",
   "metadata": {},
   "source": [
    "#### DTW\n"
   ]
  },
  {
   "cell_type": "code",
   "execution_count": null,
   "metadata": {},
   "outputs": [],
   "source": [
    "# Example usage of the function\n",
    "method = \"dtw\"\n",
    "csv_file = f\"../temp/ezmodel_original_vs_cap_{cap_num}_generated_audio_via_{method}.csv\"\n",
    "output_plot = f\"../temp/cmp_dtw_figs/ezmodel_original_vs_cap_{cap_num}_generated_audio_via_{method}_dtw_score_distribution.{ext}\"\n",
    "plot_title = \"DTW Score Distribution\"\n",
    "\n",
    "# Call the generic function\n",
    "pu.plot_dtw_score_distribution(\n",
    "    csv_file,\n",
    "    plot_title,\n",
    "    similarity_threshold=0.6,\n",
    "    output_path=output_plot,\n",
    "    col_num=cap_num,\n",
    ")"
   ]
  },
  {
   "cell_type": "markdown",
   "metadata": {},
   "source": [
    "#### WCC\n"
   ]
  },
  {
   "cell_type": "code",
   "execution_count": null,
   "metadata": {},
   "outputs": [],
   "source": [
    "# Example usage of the function\n",
    "method = \"wcc\"\n",
    "csv_file = f\"../temp/ezmodel_original_vs_cap_{cap_num}_generated_audio_via_{method}.csv\"\n",
    "output_plot = f\"../temp/cmp_wcc_figs/ezmodel_original_vs_cap_{cap_num}_generated_audio_via_{method}_wcc_score_distribution.{ext}\"\n",
    "plot_title = \"Sliding Window Cross-Correlation Score Distribution\"\n",
    "\n",
    "# Call the generic function for WCC\n",
    "pu.plot_wcc_score_distribution(\n",
    "    csv_file,\n",
    "    plot_title,\n",
    "    similarity_threshold=0.6,\n",
    "    output_path=output_plot,\n",
    "    col_num=cap_num,\n",
    ")"
   ]
  },
  {
   "cell_type": "markdown",
   "metadata": {},
   "source": [
    "#### Embedding\n"
   ]
  },
  {
   "cell_type": "code",
   "execution_count": null,
   "metadata": {},
   "outputs": [],
   "source": [
    "# Example usage of the function for Cosine Similarity\n",
    "method = \"model\"\n",
    "csv_file = f\"../temp/ezmodel_original_vs_cap_{cap_num}_generated_audio_via_{method}.csv\"\n",
    "output_plot = f\"../temp/cmp_embedd_figs/ezmodel_original_vs_cap_{cap_num}_generated_audio_via_{method}_cosine_similarity_score_distribution.{ext}\"\n",
    "plot_title = \"Embedding Cosine Similarity Score Distribution\"\n",
    "\n",
    "# Call the generic function for Cosine Similarity\n",
    "pu.plot_embed_score_distribution(\n",
    "    csv_file,\n",
    "    plot_title,\n",
    "    similarity_threshold=0.003,\n",
    "    output_path=output_plot,\n",
    "    col_num=cap_num,\n",
    ")"
   ]
  },
  {
   "cell_type": "markdown",
   "metadata": {},
   "source": [
    "### P-Value\n"
   ]
  },
  {
   "cell_type": "markdown",
   "metadata": {},
   "source": [
    "### Merging the data\n"
   ]
  },
  {
   "cell_type": "code",
   "execution_count": null,
   "metadata": {},
   "outputs": [],
   "source": [
    "import os\n",
    "import pandas as pd\n",
    "import glob\n",
    "\n",
    "\n",
    "def merge_similarity_csvs(folder_path):\n",
    "    \"\"\"\n",
    "    Merge CSV files from a specified folder by sorting by 'fid' and\n",
    "    combining similarity scores into a single file.\n",
    "\n",
    "    :param folder_path: The path to the folder containing the CSV files.\n",
    "    \"\"\"\n",
    "    # Ensure the folder path ends with a separator (e.g., / or \\ depending on the OS)\n",
    "    folder_path = os.path.join(folder_path, \"\")\n",
    "    print(folder_path)\n",
    "    # Find all CSV files matching the naming pattern in the specified folder\n",
    "    csv_files = sorted(\n",
    "        glob.glob(\n",
    "            f\"{folder_path}ezmodel_original_vs_cap_*_generated_audio_via_dtw.csv\"\n",
    "        )\n",
    "    )\n",
    "    print(csv_files)\n",
    "    # Dictionary to hold the DataFrames for each file\n",
    "    dfs = {}\n",
    "\n",
    "    # Loop through each CSV file and process it\n",
    "    for csv_file in csv_files:\n",
    "        # Extract the number from the file name using a regex\n",
    "        num = csv_file.split(\"_\")[\n",
    "            3\n",
    "        ]  # Extracts the number (e.g., '1', '2', ..., '5')\n",
    "        print(num)\n",
    "        # Load the CSV file into a DataFrame\n",
    "        df = pd.read_csv(csv_file)\n",
    "\n",
    "        # Sort the DataFrame by 'fid'\n",
    "        df = df.sort_values(by=\"fid\")\n",
    "\n",
    "        # Rename the 'similarity score' column to 'similarity_score_cap_col_{num}'\n",
    "        df.columns = [\"filename\", \"fid\", f\"similarity_score_cap_col_{num}\"]\n",
    "\n",
    "        # Keep only the necessary columns (filename, fid, and renamed similarity score)\n",
    "        dfs[num] = df[[\"filename\", \"fid\", f\"similarity_score_cap_col_{num}\"]]\n",
    "\n",
    "    # Start merging the DataFrames on 'filename' and 'fid'\n",
    "    merged_df = dfs[\"1\"]  # Start with the first DataFrame\n",
    "\n",
    "    # Merge the rest of the DataFrames\n",
    "    for num in dfs.keys():\n",
    "        if num != \"1\":\n",
    "            merged_df = pd.merge(\n",
    "                merged_df, dfs[num], on=[\"filename\", \"fid\"], how=\"outer\"\n",
    "            )\n",
    "\n",
    "    # Save the final merged DataFrame to a new CSV file in the same folder\n",
    "    merged_df.to_csv(\n",
    "        os.path.join(folder_path, \"merged_similarity_scores_dtw.csv\"),\n",
    "        index=False,\n",
    "    )\n",
    "\n",
    "\n",
    "# Example usage:\n",
    "merge_similarity_csvs(\"../temp/\")"
   ]
  },
  {
   "cell_type": "markdown",
   "metadata": {},
   "source": [
    "### Q-Q Plots\n"
   ]
  },
  {
   "cell_type": "code",
   "execution_count": null,
   "metadata": {},
   "outputs": [],
   "source": [
    "import pandas as pd\n",
    "import numpy as np\n",
    "from scipy.stats import shapiro\n",
    "import scipy.stats as stats\n",
    "import matplotlib.pyplot as plt\n",
    "\n",
    "# Load the CSV file into a DataFrame\n",
    "for method in [\"dtw\", \"wcc\"]:\n",
    "    df = pd.read_csv(f\"../temp/merged_similarity_scores_{method}.csv\")\n",
    "    cols = np.array(\n",
    "        [\n",
    "            df[f\"similarity_score_cap_col_{num}\"].to_list()\n",
    "            for num in range(1, 6)\n",
    "        ]\n",
    "    ).flatten()\n",
    "    cols = 1 - cols\n",
    "\n",
    "    # Select columns containing similarity scores (columns starting with 'similarity_score_cap')\n",
    "    score_columns = [\n",
    "        col for col in df.columns if \"similarity_score_cap\" in col\n",
    "    ]\n",
    "\n",
    "    # Select the similarity score columns (based on user input structure)\n",
    "    score_columns = [\n",
    "        col for col in df.columns if \"similarity_score_cap\" in col\n",
    "    ]\n",
    "\n",
    "    # Create QQ plots for each similarity score column\n",
    "    plt.figure(figsize=(12, 8))\n",
    "    for i, col in enumerate(score_columns, 1):\n",
    "        plt.subplot(2, 3, i)\n",
    "        stats.probplot(df[col].dropna(), dist=\"norm\", plot=plt)\n",
    "        plt.title(f\"QQ Plot for {col}\")\n",
    "\n",
    "    output_path = f\"../temp/qq_plot_for_{method}.{ext}\"\n",
    "    plt.tight_layout()\n",
    "    plt.savefig(output_path, bbox_inches=\"tight\", format=\"pdf\")\n",
    "    plt.show()"
   ]
  },
  {
   "cell_type": "code",
   "execution_count": null,
   "metadata": {},
   "outputs": [],
   "source": [
    "import pandas as pd\n",
    "import numpy as np\n",
    "from scipy import stats\n",
    "\n",
    "\n",
    "def analyze_similarity_scores(df):\n",
    "    results = {}\n",
    "\n",
    "    for column in df.columns[\n",
    "        2:\n",
    "    ]:  # Assuming the first two columns are 'filename' and 'fid'\n",
    "        # Separate the similarity scores for ezmodel_original and augmented audio\n",
    "        ezmodel_original_scores = df[column][\n",
    "            df[\"fid\"] == \"ezmodel_original\"\n",
    "        ]  # Change this line as per your DataFrame structure\n",
    "        augmented_scores = df[column][\n",
    "            df[\"fid\"] != \"ezmodel_original\"\n",
    "        ]  # Change this line as per your DataFrame structure\n",
    "\n",
    "        # Check for normality using Shapiro-Wilk test\n",
    "        _, p_value_ezmodel_original = stats.shapiro(df[column])\n",
    "        _, p_value_augmented = stats.shapiro(df[column])\n",
    "\n",
    "        # Perform appropriate test based on normality\n",
    "        if (\n",
    "            p_value_ezmodel_original > 0.05 and p_value_augmented > 0.05\n",
    "        ):  # Both distributions are normal\n",
    "            t_stat, p_value = stats.ttest_ind(\n",
    "                ezmodel_original_scores, augmented_scores, equal_var=False\n",
    "            )\n",
    "            test_type = \"t-test\"\n",
    "        else:  # At least one distribution is not normal\n",
    "            u_stat, p_value = stats.mannwhitneyu(\n",
    "                ezmodel_original_scores, augmented_scores\n",
    "            )\n",
    "            test_type = \"Mann-Whitney U test\"\n",
    "\n",
    "        results[column] = {\n",
    "            \"test_type\": test_type,\n",
    "            \"p_value\": p_value,\n",
    "            \"ezmodel_original_mean\": np.mean(ezmodel_original_scores),\n",
    "            \"augmented_mean\": np.mean(augmented_scores),\n",
    "            \"ezmodel_original_std\": np.std(ezmodel_original_scores, ddof=1),\n",
    "            \"augmented_std\": np.std(augmented_scores, ddof=1),\n",
    "        }\n",
    "\n",
    "    return results\n",
    "\n",
    "\n",
    "results = analyze_similarity_scores(df)\n",
    "print(results)"
   ]
  },
  {
   "cell_type": "markdown",
   "metadata": {},
   "source": [
    "### T-Test\n"
   ]
  },
  {
   "cell_type": "code",
   "execution_count": null,
   "metadata": {},
   "outputs": [],
   "source": [
    "import numpy as np\n",
    "from scipy import stats\n",
    "\n",
    "# Example similarity scores (replace with actual data)\n",
    "similarity_scores = cols\n",
    "\n",
    "# Compute mean and standard deviation\n",
    "mean_similarity = np.mean(similarity_scores)\n",
    "std_similarity = np.std(similarity_scores, ddof=1)  # sample std deviation\n",
    "N = len(similarity_scores)\n",
    "\n",
    "# Perform one-sample t-test against the threshold (e.g., 0.9)\n",
    "threshold = 0.99\n",
    "t_stat, p_value = stats.ttest_1samp(similarity_scores, threshold)\n",
    "\n",
    "# Print t-test result\n",
    "print(f\"t-statistic: {t_stat}, p-value: {p_value}\")\n",
    "\n",
    "# Calculate 95% confidence interval\n",
    "confidence_level = 0.95\n",
    "degrees_freedom = N - 1\n",
    "t_critical = stats.t.ppf(q=(1 + confidence_level) / 2, df=degrees_freedom)\n",
    "margin_of_error = t_critical * (std_similarity / np.sqrt(N))\n",
    "confidence_interval = (\n",
    "    mean_similarity - margin_of_error,\n",
    "    mean_similarity + margin_of_error,\n",
    ")\n",
    "\n",
    "# Print confidence interval\n",
    "print(f\"95% Confidence Interval: {confidence_interval}\")"
   ]
  },
  {
   "cell_type": "markdown",
   "metadata": {},
   "source": [
    "### See few of the Log Mel and Normalized Log Mel Spectograms for generated audios and ezmodel_original audios\n"
   ]
  },
  {
   "cell_type": "code",
   "execution_count": null,
   "metadata": {},
   "outputs": [],
   "source": [
    "import os\n",
    "import shutil\n",
    "from tqdm import tqdm\n",
    "\n",
    "# List of ezmodel_original and generated file paths\n",
    "ezmodel_original_fpaths = [\n",
    "    \"./data/Clotho/development/Door creaking.wav\",\n",
    "    \"./data/Clotho/development/radio static 2.wav\",\n",
    "    \"./data/Clotho/development/souffle_me_tallique.wav\",\n",
    "    \"./data/Clotho/development/Remix of 114382__jmorrisoncafe330__sax_man_Charlie_Rouse_own_voice_.wav\",\n",
    "    \"./data/Clotho/development/Like radio interference #1.wav\",\n",
    "    \"./data/Clotho/development/mosquito.wav\",\n",
    "    \"./data/Clotho/development/radio static 3.wav\",\n",
    "    \"./data/Clotho/development/tram_bell_ride_door.wav\",\n",
    "    \"./data/Clotho/development/Car Engine.wav\",\n",
    "    \"./data/Clotho/development/Car Keys.wav\",\n",
    "    \"./data/Clotho/development/elvis_old_time_radio.wav\",\n",
    "]\n",
    "\n",
    "cap_num = 5\n",
    "gen_fpaths = [\n",
    "    f\"./data/Clotho_caption_{cap_num}/development/Door creaking_cap_{cap_num}.wav\",\n",
    "    f\"./data/Clotho_caption_{cap_num}/development/radio static 2_cap_{cap_num}.wav\",\n",
    "    f\"./data/Clotho_caption_{cap_num}/development/souffle_me_tallique_cap_{cap_num}.wav\",\n",
    "    f\"./data/Clotho_caption_{cap_num}/development/Remix of 114382__jmorrisoncafe330__sax_man_Charlie_Rouse_own_voice__cap_{cap_num}.wav\",\n",
    "    f\"./data/Clotho_caption_{cap_num}/development/Like radio interference #1_cap_{cap_num}.wav\",\n",
    "    f\"./data/Clotho_caption_{cap_num}/development/mosquito_cap_{cap_num}.wav\",\n",
    "    f\"./data/Clotho_caption_{cap_num}/development/radio static 3_cap_{cap_num}.wav\",\n",
    "    f\"./data/Clotho_caption_{cap_num}/development/tram_bell_ride_door_cap_{cap_num}.wav\",\n",
    "    f\"./data/Clotho_caption_{cap_num}/development/Car Engine_cap_{cap_num}.wav\",\n",
    "    f\"./data/Clotho_caption_{cap_num}/development/Car Keys_cap_{cap_num}.wav\",\n",
    "    f\"./data/Clotho_caption_{cap_num}/development/elvis_old_time_radio_cap_{cap_num}.wav\",\n",
    "]\n",
    "\n",
    "# Create directories for ezmodel_original and generated audio files\n",
    "o_folder = os.path.join(\"Audio_Samples\", \"ezmodel_original_audios\")\n",
    "os.makedirs(o_folder, exist_ok=True)\n",
    "\n",
    "gen_folder = os.path.join(\"Audio_Samples\", f\"cap_{cap_num}_generated_audio\")\n",
    "os.makedirs(gen_folder, exist_ok=True)\n",
    "\n",
    "# Copy files with progress tracking\n",
    "for o_file, gen_file in tqdm(\n",
    "    zip(ezmodel_original_fpaths, gen_fpaths),\n",
    "    total=len(ezmodel_original_fpaths),\n",
    "    desc=\"Copying audio files\",\n",
    "):\n",
    "    # Extract the base filenames\n",
    "    o_filename = os.path.basename(o_file)\n",
    "    g_filename = os.path.basename(gen_file)\n",
    "\n",
    "    # Construct the destination paths\n",
    "    o_dest_path = os.path.join(o_folder, o_filename)\n",
    "    g_dest_path = os.path.join(gen_folder, g_filename)\n",
    "\n",
    "    # Copy the ezmodel_original and generated files\n",
    "    try:\n",
    "        shutil.copy(o_file, o_dest_path)\n",
    "        print(f\"Copied ezmodel_original: {o_filename}\")\n",
    "    except FileNotFoundError:\n",
    "        print(f\"ezmodel_original file {o_file} not found. Skipping.\")\n",
    "    except Exception as e:\n",
    "        print(f\"Error copying ezmodel_original file {o_file}: {e}\")\n",
    "\n",
    "    try:\n",
    "        shutil.copy(gen_file, g_dest_path)\n",
    "        print(f\"Copied generated: {g_filename}\")\n",
    "    except FileNotFoundError:\n",
    "        print(f\"Generated file {gen_file} not found. Skipping.\")\n",
    "    except Exception as e:\n",
    "        print(f\"Error copying generated file {gen_file}: {e}\")"
   ]
  },
  {
   "cell_type": "code",
   "execution_count": null,
   "metadata": {},
   "outputs": [],
   "source": [
    "### Incomplete audios\n",
    "\n",
    "fpaths = [\n",
    "    \"./data/Clotho/development/Door creaking.wav\",\n",
    "    \"./data/Clotho/development/radio static 2.wav\",\n",
    "    \"./data/Clotho/development/souffle_me_tallique.wav\",\n",
    "    \"./data/Clotho/development/Remix of 114382__jmorrisoncafe330__sax_man_Charlie_Rouse_own_voice_.wav\",\n",
    "    \"./data/Clotho/development/Like radio interference #1.wav\",\n",
    "    \"./data/Clotho/development/mosquito.wav\",\n",
    "    \"./data/Clotho/development/radio static 3.wav\",\n",
    "    \"./data/Clotho/development/tram_bell_ride_door.wav\",\n",
    "    \"./data/Clotho/development/Car Engine.wav\",\n",
    "    \"./data/Clotho/development/Car Keys.wav\",\n",
    "    \"./data/Clotho/development/elvis_old_time_radio.wav\",\n",
    "]\n",
    "\n",
    "sample_rate = 44100\n",
    "window_length_secs = 0.025\n",
    "hop_length_secs = 0.010\n",
    "num_mels = 128\n",
    "log_offset = 0.0\n",
    "window_length = int(round(sample_rate * window_length_secs))\n",
    "hop_length = int(round(sample_rate * hop_length_secs))\n",
    "fft_length = 2 ** int(np.ceil(np.log(window_length) / np.log(2.0)))\n",
    "\n",
    "for fp in fpaths:\n",
    "    # log_mel = process_audio_file(fp, log_mel_spectrogram)\n",
    "    y, sr = librosa.load(fp)\n",
    "    spect = librosa.feature.melspectrogram(\n",
    "        y=y,\n",
    "        sr=sr,\n",
    "        n_fft=fft_length,\n",
    "        hop_length=hop_length,\n",
    "        win_length=window_length,\n",
    "        n_mels=num_mels,\n",
    "    )\n",
    "    spect = np.maximum(spect, 1e-9)\n",
    "    print(spect)\n",
    "    log_mel = np.log(spect)\n",
    "    normal_log_mel = normalize_spectrogram(log_mel)\n",
    "    visualize_log_mel_spectrogram(normal_log_mel)\n",
    "    # normal_log_mel = normalize_spectrogram(log_mel,fp)\n",
    "    # # print(y.shape, normal_log_mel.shape)\n",
    "    # # break\n",
    "    # visualize_log_mel_spectrogram(normal_log_mel)\n",
    "    # visualize_log_mel_spectrogram(y)"
   ]
  },
  {
   "cell_type": "code",
   "execution_count": null,
   "metadata": {},
   "outputs": [],
   "source": [
    "cap_num = 1\n",
    "fpaths = [\n",
    "    f\"./data/Clotho_caption_{cap_num}/development/Door creaking_cap_{cap_num}.wav\",\n",
    "    f\"./data/Clotho_caption_{cap_num}/development/radio static 2_cap_{cap_num}.wav\",\n",
    "    f\"./data/Clotho_caption_{cap_num}/development/souffle_me_tallique_cap_{cap_num}.wav\",\n",
    "    f\"./data/Clotho_caption_{cap_num}/development/Remix of 114382__jmorrisoncafe330__sax_man_Charlie_Rouse_own_voice__cap_{cap_num}.wav\",\n",
    "    f\"./data/Clotho_caption_{cap_num}/development/Like radio interference #1_cap_{cap_num}.wav\",\n",
    "    f\"./data/Clotho_caption_{cap_num}/development/mosquito_cap_{cap_num}.wav\",\n",
    "    f\"./data/Clotho_caption_{cap_num}/development/radio static 3_cap_{cap_num}.wav\",\n",
    "    f\"./data/Clotho_caption_{cap_num}/development/tram_bell_ride_door_cap_{cap_num}.wav\",\n",
    "    f\"./data/Clotho_caption_{cap_num}/development/Car Engine_cap_{cap_num}.wav\",\n",
    "    f\"./data/Clotho_caption_{cap_num}/development/Car Keys_cap_{cap_num}.wav\",\n",
    "    f\"./data/Clotho_caption_{cap_num}/development/elvis_old_time_radio_cap_{cap_num}.wav\",\n",
    "]\n",
    "\n",
    "sample_rate = 44100\n",
    "window_length_secs = 0.025\n",
    "hop_length_secs = 0.010\n",
    "num_mels = 128\n",
    "log_offset = 0.0\n",
    "window_length = int(round(sample_rate * window_length_secs))\n",
    "hop_length = int(round(sample_rate * hop_length_secs))\n",
    "fft_length = 2 ** int(np.ceil(np.log(window_length) / np.log(2.0)))\n",
    "\n",
    "for fp in fpaths:\n",
    "    # log_mel = process_audio_file(fp, log_mel_spectrogram)\n",
    "    y, sr = librosa.load(fp)\n",
    "    spect = librosa.feature.melspectrogram(\n",
    "        y=y,\n",
    "        sr=sr,\n",
    "        n_fft=fft_length,\n",
    "        hop_length=hop_length,\n",
    "        win_length=window_length,\n",
    "        n_mels=num_mels,\n",
    "    )\n",
    "    spect = np.maximum(spect, 1e-9)\n",
    "    print(spect)\n",
    "    log_mel = np.log(spect)\n",
    "    normal_log_mel = normalize_spectrogram(log_mel)\n",
    "    visualize_log_mel_spectrogram(normal_log_mel)\n",
    "    # normal_log_mel = normalize_spectrogram(log_mel,fp)\n",
    "    # # print(y.shape, normal_log_mel.shape)\n",
    "    # # break\n",
    "    # visualize_log_mel_spectrogram(normal_log_mel)\n",
    "    # visualize_log_mel_spectrogram(y)"
   ]
  },
  {
   "cell_type": "markdown",
   "metadata": {},
   "source": [
    "### Rough Testing\n"
   ]
  }
 ],
 "metadata": {
  "kernelspec": {
   "display_name": "Python 3",
   "language": "python",
   "name": "python3"
  },
  "language_info": {
   "codemirror_mode": {
    "name": "ipython",
    "version": 3
   },
   "file_extension": ".py",
   "mimetype": "text/x-python",
   "name": "python",
   "nbconvert_exporter": "python",
   "pygments_lexer": "ipython3",
   "version": "3.9.19"
  }
 },
 "nbformat": 4,
 "nbformat_minor": 2
}
