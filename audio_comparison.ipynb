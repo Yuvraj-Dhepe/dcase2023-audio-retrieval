{
 "cells": [
  {
   "cell_type": "code",
   "execution_count": null,
   "metadata": {},
   "outputs": [],
   "source": [
    "\n",
    "%load_ext autoreload\n",
    "%autoreload 2\n",
    "import librosa\n",
    "import numpy as np\n",
    "import pandas as pd\n",
    "import matplotlib.pyplot as plt\n",
    "from preprocess_random_exp.compare_audios import process_audio_file,log_mel_spectrogram, normalize_spectrogram, visualize_log_mel_spectrogram\n",
    "from utils import plot_utils as pu\n",
    "from matplotlib_inline.backend_inline import set_matplotlib_formats\n",
    "set_matplotlib_formats('svg')"
   ]
  },
  {
   "cell_type": "markdown",
   "metadata": {},
   "source": [
    "### Similarity Scores between original and generated audios for Cap Col 1"
   ]
  },
  {
   "cell_type": "code",
   "execution_count": 23,
   "metadata": {},
   "outputs": [],
   "source": [
    "import os\n",
    "for i in ['cmp_dtw_figs', 'cmp_wcc_figs', 'cmp_embedd_figs']:\n",
    "    os.makedirs(os.path.join('temp',i), exist_ok=True)"
   ]
  },
  {
   "cell_type": "code",
   "execution_count": 24,
   "metadata": {},
   "outputs": [],
   "source": [
    "cap_num = 1"
   ]
  },
  {
   "cell_type": "markdown",
   "metadata": {},
   "source": [
    "#### DTW"
   ]
  },
  {
   "cell_type": "code",
   "execution_count": null,
   "metadata": {},
   "outputs": [],
   "source": [
    "# Example usage of the function\n",
    "method = 'dtw'\n",
    "csv_file = f'./temp/original_vs_cap_{cap_num}_generated_audio_via_{method}.csv'\n",
    "output_plot = f'./temp/cmp_dtw_figs/original_vs_cap_{cap_num}_generated_audio_via_{method}_dtw_score_distribution.svg'\n",
    "plot_title = 'DTW Score Distribution'\n",
    "\n",
    "# Call the generic function\n",
    "pu.plot_dtw_score_distribution(csv_file, plot_title, similarity_threshold=0.6, output_path=output_plot,col_num=cap_num)"
   ]
  },
  {
   "cell_type": "markdown",
   "metadata": {},
   "source": [
    "### WCC"
   ]
  },
  {
   "cell_type": "code",
   "execution_count": null,
   "metadata": {},
   "outputs": [],
   "source": [
    "# Example usage of the function\n",
    "method = 'wcc'\n",
    "csv_file = f'./temp/original_vs_cap_{cap_num}_generated_audio_via_{method}.csv'\n",
    "output_plot = f'./temp/cmp_wcc_figs/original_vs_cap_{cap_num}_generated_audio_via_{method}_wcc_score_distribution.svg'\n",
    "plot_title = 'Sliding Window Cross-Correlation Score Distribution'\n",
    "\n",
    "# Call the generic function for WCC\n",
    "pu.plot_wcc_score_distribution(csv_file, plot_title, similarity_threshold=0.6, output_path=output_plot,col_num=cap_num)\n"
   ]
  },
  {
   "cell_type": "markdown",
   "metadata": {},
   "source": [
    "### Embedding "
   ]
  },
  {
   "cell_type": "code",
   "execution_count": null,
   "metadata": {},
   "outputs": [],
   "source": [
    "\n",
    "\n",
    "# Example usage of the function for Cosine Similarity\n",
    "method = 'model'\n",
    "csv_file = f'./temp/original_vs_cap_{cap_num}_generated_audio_via_{method}.csv'\n",
    "output_plot = f'./temp/cmp_embedd_figs/original_vs_cap_{cap_num}_generated_audio_via_{method}_cosine_similarity_score_distribution.svg'\n",
    "plot_title = 'Embedding Cosine Similarity Score Distribution'\n",
    "\n",
    "# Call the generic function for Cosine Similarity\n",
    "pu.plot_embed_score_distribution(csv_file, plot_title, similarity_threshold=0.003, output_path=output_plot,col_num=cap_num)\n"
   ]
  },
  {
   "cell_type": "markdown",
   "metadata": {},
   "source": [
    "### Similarity Scores between original and generated audios for Cap Col 2"
   ]
  },
  {
   "cell_type": "code",
   "execution_count": 28,
   "metadata": {},
   "outputs": [],
   "source": [
    "cap_num = 2"
   ]
  },
  {
   "cell_type": "markdown",
   "metadata": {},
   "source": [
    "#### DTW"
   ]
  },
  {
   "cell_type": "code",
   "execution_count": null,
   "metadata": {},
   "outputs": [],
   "source": [
    "# Example usage of the function\n",
    "method = 'dtw'\n",
    "csv_file = f'./temp/original_vs_cap_{cap_num}_generated_audio_via_{method}.csv'\n",
    "output_plot = f'./temp/cmp_dtw_figs/original_vs_cap_{cap_num}_generated_audio_via_{method}_dtw_score_distribution.svg'\n",
    "plot_title = 'DTW Score Distribution'\n",
    "\n",
    "# Call the generic function\n",
    "pu.plot_dtw_score_distribution(csv_file, plot_title, similarity_threshold=0.6, output_path=output_plot,col_num=cap_num)"
   ]
  },
  {
   "cell_type": "markdown",
   "metadata": {},
   "source": [
    "### WCC"
   ]
  },
  {
   "cell_type": "code",
   "execution_count": null,
   "metadata": {},
   "outputs": [],
   "source": [
    "# Example usage of the function\n",
    "method = 'wcc'\n",
    "csv_file = f'./temp/original_vs_cap_{cap_num}_generated_audio_via_{method}.csv'\n",
    "output_plot = f'./temp/cmp_wcc_figs/original_vs_cap_{cap_num}_generated_audio_via_{method}_wcc_score_distribution.svg'\n",
    "plot_title = 'Sliding Window Cross-Correlation Score Distribution'\n",
    "\n",
    "# Call the generic function for WCC\n",
    "pu.plot_wcc_score_distribution(csv_file, plot_title, similarity_threshold=0.6, output_path=output_plot,col_num=cap_num)\n"
   ]
  },
  {
   "cell_type": "markdown",
   "metadata": {},
   "source": [
    "### Embedding "
   ]
  },
  {
   "cell_type": "code",
   "execution_count": null,
   "metadata": {},
   "outputs": [],
   "source": [
    "\n",
    "# Example usage of the function for Cosine Similarity\n",
    "method = 'model'\n",
    "csv_file = f'./temp/original_vs_cap_{cap_num}_generated_audio_via_{method}.csv'\n",
    "output_plot = f'./temp/cmp_embedd_figs/original_vs_cap_{cap_num}_generated_audio_via_{method}_cosine_similarity_score_distribution.svg'\n",
    "plot_title = 'Embedding Cosine Similarity Score Distribution'\n",
    "\n",
    "# Call the generic function for Cosine Similarity\n",
    "pu.plot_embed_score_distribution(csv_file, plot_title, similarity_threshold=0.003, output_path=output_plot,col_num=cap_num)\n"
   ]
  },
  {
   "cell_type": "markdown",
   "metadata": {},
   "source": [
    "### Similarity Scores between original and generated audios for Cap Col 3"
   ]
  },
  {
   "cell_type": "code",
   "execution_count": 32,
   "metadata": {},
   "outputs": [],
   "source": [
    "cap_num = 3"
   ]
  },
  {
   "cell_type": "markdown",
   "metadata": {},
   "source": [
    "#### DTW"
   ]
  },
  {
   "cell_type": "code",
   "execution_count": null,
   "metadata": {},
   "outputs": [],
   "source": [
    "# Example usage of the function\n",
    "method = 'dtw'\n",
    "csv_file = f'./temp/original_vs_cap_{cap_num}_generated_audio_via_{method}.csv'\n",
    "output_plot = f'./temp/cmp_dtw_figs/original_vs_cap_{cap_num}_generated_audio_via_{method}_dtw_score_distribution.svg'\n",
    "plot_title = 'DTW Score Distribution'\n",
    "\n",
    "# Call the generic function\n",
    "pu.plot_dtw_score_distribution(csv_file, plot_title, similarity_threshold=0.6, output_path=output_plot,col_num=cap_num)"
   ]
  },
  {
   "cell_type": "markdown",
   "metadata": {},
   "source": [
    "### WCC"
   ]
  },
  {
   "cell_type": "code",
   "execution_count": null,
   "metadata": {},
   "outputs": [],
   "source": [
    "# Example usage of the function\n",
    "method = 'wcc'\n",
    "csv_file = f'./temp/original_vs_cap_{cap_num}_generated_audio_via_{method}.csv'\n",
    "output_plot = f'./temp/cmp_wcc_figs/original_vs_cap_{cap_num}_generated_audio_via_{method}_wcc_score_distribution.svg'\n",
    "plot_title = 'Sliding Window Cross-Correlation Score Distribution'\n",
    "\n",
    "# Call the generic function for WCC\n",
    "pu.plot_wcc_score_distribution(csv_file, plot_title, similarity_threshold=0.6, output_path=output_plot,col_num=cap_num)\n"
   ]
  },
  {
   "cell_type": "markdown",
   "metadata": {},
   "source": [
    "### Embedding "
   ]
  },
  {
   "cell_type": "code",
   "execution_count": null,
   "metadata": {},
   "outputs": [],
   "source": [
    "\n",
    "\n",
    "# Example usage of the function for Cosine Similarity\n",
    "method = 'model'\n",
    "csv_file = f'./temp/original_vs_cap_{cap_num}_generated_audio_via_{method}.csv'\n",
    "output_plot = f'./temp/cmp_embedd_figs/original_vs_cap_{cap_num}_generated_audio_via_{method}_cosine_similarity_score_distribution.svg'\n",
    "plot_title = 'Embedding Cosine Similarity Score Distribution'\n",
    "\n",
    "# Call the generic function for Cosine Similarity\n",
    "pu.plot_embed_score_distribution(csv_file, plot_title, similarity_threshold=0.003, output_path=output_plot,col_num=cap_num)\n"
   ]
  },
  {
   "cell_type": "markdown",
   "metadata": {},
   "source": [
    "### Similarity Scores between original and generated audios for Cap Col 4"
   ]
  },
  {
   "cell_type": "code",
   "execution_count": 36,
   "metadata": {},
   "outputs": [],
   "source": [
    "cap_num = 4"
   ]
  },
  {
   "cell_type": "markdown",
   "metadata": {},
   "source": [
    "#### DTW"
   ]
  },
  {
   "cell_type": "code",
   "execution_count": null,
   "metadata": {},
   "outputs": [],
   "source": [
    "# Example usage of the function\n",
    "method = 'dtw'\n",
    "csv_file = f'./temp/original_vs_cap_{cap_num}_generated_audio_via_{method}.csv'\n",
    "output_plot = f'./temp/cmp_dtw_figs/original_vs_cap_{cap_num}_generated_audio_via_{method}_dtw_score_distribution.svg'\n",
    "plot_title = 'DTW Score Distribution'\n",
    "\n",
    "# Call the generic function\n",
    "pu.plot_dtw_score_distribution(csv_file, plot_title, similarity_threshold=0.6, output_path=output_plot,col_num=cap_num)"
   ]
  },
  {
   "cell_type": "markdown",
   "metadata": {},
   "source": [
    "### WCC"
   ]
  },
  {
   "cell_type": "code",
   "execution_count": null,
   "metadata": {},
   "outputs": [],
   "source": [
    "# Example usage of the function\n",
    "method = 'wcc'\n",
    "csv_file = f'./temp/original_vs_cap_{cap_num}_generated_audio_via_{method}.csv'\n",
    "output_plot = f'./temp/cmp_wcc_figs/original_vs_cap_{cap_num}_generated_audio_via_{method}_wcc_score_distribution.svg'\n",
    "plot_title = 'Sliding Window Cross-Correlation Score Distribution'\n",
    "\n",
    "# Call the generic function for WCC\n",
    "pu.plot_wcc_score_distribution(csv_file, plot_title, similarity_threshold=0.6, output_path=output_plot,col_num=cap_num)\n"
   ]
  },
  {
   "cell_type": "markdown",
   "metadata": {},
   "source": [
    "### Embedding "
   ]
  },
  {
   "cell_type": "code",
   "execution_count": null,
   "metadata": {},
   "outputs": [],
   "source": [
    "# Example usage of the function for Cosine Similarity\n",
    "method = 'model'\n",
    "csv_file = f'./temp/original_vs_cap_{cap_num}_generated_audio_via_{method}.csv'\n",
    "output_plot = f'./temp/cmp_embedd_figs/original_vs_cap_{cap_num}_generated_audio_via_{method}_cosine_similarity_score_distribution.svg'\n",
    "plot_title = 'Embedding Cosine Similarity Score Distribution'\n",
    "\n",
    "# Call the generic function for Cosine Similarity\n",
    "pu.plot_embed_score_distribution(csv_file, plot_title, similarity_threshold=0.003, output_path=output_plot,col_num=cap_num)\n"
   ]
  },
  {
   "cell_type": "markdown",
   "metadata": {},
   "source": [
    "### Similarity Scores between original and generated audios for Cap Col 5"
   ]
  },
  {
   "cell_type": "code",
   "execution_count": 40,
   "metadata": {},
   "outputs": [],
   "source": [
    "cap_num = 5"
   ]
  },
  {
   "cell_type": "markdown",
   "metadata": {},
   "source": [
    "#### DTW"
   ]
  },
  {
   "cell_type": "code",
   "execution_count": null,
   "metadata": {},
   "outputs": [],
   "source": [
    "# Example usage of the function\n",
    "method = 'dtw'\n",
    "csv_file = f'./temp/original_vs_cap_{cap_num}_generated_audio_via_{method}.csv'\n",
    "output_plot = f'./temp/cmp_dtw_figs/original_vs_cap_{cap_num}_generated_audio_via_{method}_dtw_score_distribution.svg'\n",
    "plot_title = 'DTW Score Distribution'\n",
    "\n",
    "# Call the generic function\n",
    "pu.plot_dtw_score_distribution(csv_file, plot_title, similarity_threshold=0.6, output_path=output_plot,col_num=cap_num)"
   ]
  },
  {
   "cell_type": "markdown",
   "metadata": {},
   "source": [
    "### WCC"
   ]
  },
  {
   "cell_type": "code",
   "execution_count": null,
   "metadata": {},
   "outputs": [],
   "source": [
    "# Example usage of the function\n",
    "method = 'wcc'\n",
    "csv_file = f'./temp/original_vs_cap_{cap_num}_generated_audio_via_{method}.csv'\n",
    "output_plot = f'./temp/cmp_wcc_figs/original_vs_cap_{cap_num}_generated_audio_via_{method}_wcc_score_distribution.svg'\n",
    "plot_title = 'Sliding Window Cross-Correlation Score Distribution'\n",
    "\n",
    "# Call the generic function for WCC\n",
    "pu.plot_wcc_score_distribution(csv_file, plot_title, similarity_threshold=0.6, output_path=output_plot,col_num=cap_num)\n"
   ]
  },
  {
   "cell_type": "markdown",
   "metadata": {},
   "source": [
    "### Embedding "
   ]
  },
  {
   "cell_type": "code",
   "execution_count": null,
   "metadata": {},
   "outputs": [],
   "source": [
    "\n",
    "\n",
    "# Example usage of the function for Cosine Similarity\n",
    "method = 'model'\n",
    "csv_file = f'./temp/original_vs_cap_{cap_num}_generated_audio_via_{method}.csv'\n",
    "output_plot = f'./temp/cmp_embedd_figs/original_vs_cap_{cap_num}_generated_audio_via_{method}_cosine_similarity_score_distribution.svg'\n",
    "plot_title = 'Embedding Cosine Similarity Score Distribution'\n",
    "\n",
    "# Call the generic function for Cosine Similarity\n",
    "pu.plot_embed_score_distribution(csv_file, plot_title, similarity_threshold=0.003, output_path=output_plot,col_num=cap_num)\n"
   ]
  },
  {
   "cell_type": "markdown",
   "metadata": {},
   "source": [
    "### See few of the Log Mel and Normalized Log Mel Spectograms for generated audios and original audios"
   ]
  },
  {
   "cell_type": "code",
   "execution_count": null,
   "metadata": {},
   "outputs": [],
   "source": [
    "import os\n",
    "import shutil\n",
    "from tqdm import tqdm\n",
    "\n",
    "# List of original and generated file paths\n",
    "original_fpaths = [\n",
    "    './data/Clotho/development/Door creaking.wav',\n",
    "    './data/Clotho/development/radio static 2.wav',\n",
    "    './data/Clotho/development/souffle_me_tallique.wav',\n",
    "    './data/Clotho/development/Remix of 114382__jmorrisoncafe330__sax_man_Charlie_Rouse_own_voice_.wav',\n",
    "    './data/Clotho/development/Like radio interference #1.wav',\n",
    "    './data/Clotho/development/mosquito.wav',\n",
    "    './data/Clotho/development/radio static 3.wav',\n",
    "    './data/Clotho/development/tram_bell_ride_door.wav',\n",
    "    './data/Clotho/development/Car Engine.wav',\n",
    "    './data/Clotho/development/Car Keys.wav',\n",
    "    './data/Clotho/development/elvis_old_time_radio.wav'\n",
    "]\n",
    "\n",
    "cap_num = 5\n",
    "gen_fpaths = [\n",
    "    f'./data/Clotho_caption_{cap_num}/development/Door creaking_cap_{cap_num}.wav',\n",
    "    f'./data/Clotho_caption_{cap_num}/development/radio static 2_cap_{cap_num}.wav',\n",
    "    f'./data/Clotho_caption_{cap_num}/development/souffle_me_tallique_cap_{cap_num}.wav',\n",
    "    f'./data/Clotho_caption_{cap_num}/development/Remix of 114382__jmorrisoncafe330__sax_man_Charlie_Rouse_own_voice__cap_{cap_num}.wav',\n",
    "    f'./data/Clotho_caption_{cap_num}/development/Like radio interference #1_cap_{cap_num}.wav',\n",
    "    f'./data/Clotho_caption_{cap_num}/development/mosquito_cap_{cap_num}.wav',\n",
    "    f'./data/Clotho_caption_{cap_num}/development/radio static 3_cap_{cap_num}.wav',\n",
    "    f'./data/Clotho_caption_{cap_num}/development/tram_bell_ride_door_cap_{cap_num}.wav',\n",
    "    f'./data/Clotho_caption_{cap_num}/development/Car Engine_cap_{cap_num}.wav',\n",
    "    f'./data/Clotho_caption_{cap_num}/development/Car Keys_cap_{cap_num}.wav',\n",
    "    f'./data/Clotho_caption_{cap_num}/development/elvis_old_time_radio_cap_{cap_num}.wav'\n",
    "]\n",
    "\n",
    "# Create directories for original and generated audio files\n",
    "o_folder = os.path.join(\"Audio_Samples\", \"original_audios\")\n",
    "os.makedirs(o_folder, exist_ok=True)\n",
    "\n",
    "gen_folder = os.path.join(\"Audio_Samples\", f\"cap_{cap_num}_generated_audio\")\n",
    "os.makedirs(gen_folder, exist_ok=True)\n",
    "\n",
    "# Copy files with progress tracking\n",
    "for o_file, gen_file in tqdm(zip(original_fpaths, gen_fpaths), total=len(original_fpaths), desc=\"Copying audio files\"):\n",
    "    # Extract the base filenames\n",
    "    o_filename = os.path.basename(o_file)\n",
    "    g_filename = os.path.basename(gen_file)\n",
    "\n",
    "    # Construct the destination paths\n",
    "    o_dest_path = os.path.join(o_folder, o_filename)\n",
    "    g_dest_path = os.path.join(gen_folder, g_filename)\n",
    "\n",
    "    # Copy the original and generated files\n",
    "    try:\n",
    "        shutil.copy(o_file, o_dest_path)\n",
    "        print(f\"Copied original: {o_filename}\")\n",
    "    except FileNotFoundError:\n",
    "        print(f\"Original file {o_file} not found. Skipping.\")\n",
    "    except Exception as e:\n",
    "        print(f\"Error copying original file {o_file}: {e}\")\n",
    "\n",
    "    try:\n",
    "        shutil.copy(gen_file, g_dest_path)\n",
    "        print(f\"Copied generated: {g_filename}\")\n",
    "    except FileNotFoundError:\n",
    "        print(f\"Generated file {gen_file} not found. Skipping.\")\n",
    "    except Exception as e:\n",
    "        print(f\"Error copying generated file {gen_file}: {e}\")\n"
   ]
  },
  {
   "cell_type": "code",
   "execution_count": null,
   "metadata": {},
   "outputs": [],
   "source": [
    "### Incomplete audios\n",
    "\n",
    "fpaths = ['./data/Clotho/development/Door creaking.wav','./data/Clotho/development/radio static 2.wav', './data/Clotho/development/souffle_me_tallique.wav','./data/Clotho/development/Remix of 114382__jmorrisoncafe330__sax_man_Charlie_Rouse_own_voice_.wav','./data/Clotho/development/Like radio interference #1.wav','./data/Clotho/development/mosquito.wav','./data/Clotho/development/radio static 3.wav','./data/Clotho/development/tram_bell_ride_door.wav','./data/Clotho/development/Car Engine.wav','./data/Clotho/development/Car Keys.wav','./data/Clotho/development/elvis_old_time_radio.wav']\n",
    "\n",
    "sample_rate=44100\n",
    "window_length_secs=0.025\n",
    "hop_length_secs=0.010\n",
    "num_mels=128\n",
    "log_offset=0.0\n",
    "window_length = int(round(sample_rate * window_length_secs))\n",
    "hop_length = int(round(sample_rate * hop_length_secs))\n",
    "fft_length = 2 ** int(np.ceil(np.log(window_length) / np.log(2.0)))\n",
    "\n",
    "for fp in fpaths:\n",
    "    # log_mel = process_audio_file(fp, log_mel_spectrogram)\n",
    "    y, sr = librosa.load(fp)\n",
    "    spect = (librosa.feature.melspectrogram(y=y, sr = sr, n_fft = fft_length, hop_length = hop_length, win_length=window_length, n_mels = num_mels))\n",
    "    spect = np.maximum(spect,1e-9)\n",
    "    print(spect)\n",
    "    log_mel = np.log(spect)\n",
    "    normal_log_mel = normalize_spectrogram(log_mel)\n",
    "    visualize_log_mel_spectrogram(normal_log_mel)\n",
    "    # normal_log_mel = normalize_spectrogram(log_mel,fp)\n",
    "    # # print(y.shape, normal_log_mel.shape)\n",
    "    # # break\n",
    "    # visualize_log_mel_spectrogram(normal_log_mel)\n",
    "    # visualize_log_mel_spectrogram(y)"
   ]
  },
  {
   "cell_type": "code",
   "execution_count": null,
   "metadata": {},
   "outputs": [],
   "source": [
    "cap_num = 1\n",
    "fpaths = [f'./data/Clotho_caption_{cap_num}/development/Door creaking_cap_{cap_num}.wav',f'./data/Clotho_caption_{cap_num}/development/radio static 2_cap_{cap_num}.wav', f'./data/Clotho_caption_{cap_num}/development/souffle_me_tallique_cap_{cap_num}.wav',f'./data/Clotho_caption_{cap_num}/development/Remix of 114382__jmorrisoncafe330__sax_man_Charlie_Rouse_own_voice__cap_{cap_num}.wav',f'./data/Clotho_caption_{cap_num}/development/Like radio interference #1_cap_{cap_num}.wav',f'./data/Clotho_caption_{cap_num}/development/mosquito_cap_{cap_num}.wav',f'./data/Clotho_caption_{cap_num}/development/radio static 3_cap_{cap_num}.wav',f'./data/Clotho_caption_{cap_num}/development/tram_bell_ride_door_cap_{cap_num}.wav',f'./data/Clotho_caption_{cap_num}/development/Car Engine_cap_{cap_num}.wav',f'./data/Clotho_caption_{cap_num}/development/Car Keys_cap_{cap_num}.wav',f'./data/Clotho_caption_{cap_num}/development/elvis_old_time_radio_cap_{cap_num}.wav']\n",
    "\n",
    "sample_rate=44100\n",
    "window_length_secs=0.025\n",
    "hop_length_secs=0.010\n",
    "num_mels=128\n",
    "log_offset=0.0\n",
    "window_length = int(round(sample_rate * window_length_secs))\n",
    "hop_length = int(round(sample_rate * hop_length_secs))\n",
    "fft_length = 2 ** int(np.ceil(np.log(window_length) / np.log(2.0)))\n",
    "\n",
    "for fp in fpaths:\n",
    "    # log_mel = process_audio_file(fp, log_mel_spectrogram)\n",
    "    y, sr = librosa.load(fp)\n",
    "    spect = (librosa.feature.melspectrogram(y=y, sr = sr, n_fft = fft_length, hop_length = hop_length, win_length=window_length, n_mels = num_mels))\n",
    "    spect = np.maximum(spect,1e-9)\n",
    "    print(spect)\n",
    "    log_mel = np.log(spect)\n",
    "    normal_log_mel = normalize_spectrogram(log_mel)\n",
    "    visualize_log_mel_spectrogram(normal_log_mel)\n",
    "    # normal_log_mel = normalize_spectrogram(log_mel,fp)\n",
    "    # # print(y.shape, normal_log_mel.shape)\n",
    "    # # break\n",
    "    # visualize_log_mel_spectrogram(normal_log_mel)\n",
    "    # visualize_log_mel_spectrogram(y)"
   ]
  }
 ],
 "metadata": {
  "language_info": {
   "name": "python"
  }
 },
 "nbformat": 4,
 "nbformat_minor": 2
}
